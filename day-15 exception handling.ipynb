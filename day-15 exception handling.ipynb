{
  "nbformat": 4,
  "nbformat_minor": 0,
  "metadata": {
    "kernelspec": {
      "display_name": "Python 3",
      "language": "python",
      "name": "python3"
    },
    "language_info": {
      "codemirror_mode": {
        "name": "ipython",
        "version": 3
      },
      "file_extension": ".py",
      "mimetype": "text/x-python",
      "name": "python",
      "nbconvert_exporter": "python",
      "pygments_lexer": "ipython3",
      "version": "3.7.1"
    },
    "colab": {
      "name": "except han.ipynb",
      "provenance": []
    }
  },
  "cells": [
    {
      "cell_type": "code",
      "metadata": {
        "id": "erg3Q7zWk8rf",
        "outputId": "a9cd48b2-206b-4a3e-957b-e66e8264a16f"
      },
      "source": [
        "try:\n",
        "    age = int(input(\"Enter your age  = \"))\n",
        "except:\n",
        "    print(\"You should enter int\")"
      ],
      "execution_count": null,
      "outputs": [
        {
          "output_type": "stream",
          "text": [
            "Enter your age  = Ten\n",
            "You should enter int\n"
          ],
          "name": "stdout"
        }
      ]
    },
    {
      "cell_type": "code",
      "metadata": {
        "id": "R_Tcem8Mlh_Z"
      },
      "source": [
        "def cal():\n",
        "    try:\n",
        "        a = int(input(\"Enter a = \"))\n",
        "        b = int(input(\"Enter b = \"))\n",
        "        c = a/b\n",
        "        print(c)\n",
        "    except:\n",
        "        print(\"The error occured \")\n",
        "        cal()\n",
        "  #this is not recursive function      "
      ],
      "execution_count": null,
      "outputs": []
    },
    {
      "cell_type": "code",
      "metadata": {
        "id": "mdRSSEg0npaa",
        "outputId": "84c6b920-a651-4c2e-b9c6-026720f6cdfa",
        "colab": {
          "base_uri": "https://localhost:8080/"
        }
      },
      "source": [
        "def cal():\n",
        "    try:\n",
        "        a = int(input(\"Enter a = \"))\n",
        "        b = int(input(\"Enter b = \"))\n",
        "        c = a/b\n",
        "        print(c)\n",
        "    except:\n",
        "        print(\"The error occured \")\n",
        "cal()\n",
        "#this is also not recursive call or recursive function"
      ],
      "execution_count": 3,
      "outputs": [
        {
          "output_type": "stream",
          "text": [
            "Enter a = 12\n",
            "Enter b = 12\n",
            "1.0\n"
          ],
          "name": "stdout"
        }
      ]
    },
    {
      "cell_type": "code",
      "metadata": {
        "id": "PLXSO5avk8rl",
        "outputId": "913ab276-ddef-4497-c4f3-ba75555fe658"
      },
      "source": [
        "#this is an recursive function.....in recursive function , output will be called several times \n",
        "#until there is valid input \n",
        "def cal():\n",
        "    try:\n",
        "        a = int(input(\"Enter a = \"))\n",
        "        b = int(input(\"Enter b = \"))\n",
        "        c = a/b\n",
        "        print(c)\n",
        "    except:\n",
        "        print(\"The error occured \")\n",
        "        cal()\n",
        "        \n",
        "cal()"
      ],
      "execution_count": null,
      "outputs": [
        {
          "output_type": "stream",
          "text": [
            "Enter a = 10\n",
            "Enter b = 0\n",
            "The error occured \n",
            "Enter a = Ten\n",
            "The error occured \n",
            "Enter a = 10\n",
            "Enter b = 0\n",
            "The error occured \n",
            "Enter a = 10\n",
            "Enter b = 2\n",
            "5.0\n"
          ],
          "name": "stdout"
        }
      ]
    },
    {
      "cell_type": "code",
      "metadata": {
        "id": "y2HN0N_Jk8rm",
        "outputId": "c1c33c40-cd96-4537-b86e-263621a13156"
      },
      "source": [
        "def cal():\n",
        "    try:\n",
        "        a = int(input(\"Enter a = \"))\n",
        "        b = int(input(\"Enter b = \"))\n",
        "        c = a/b\n",
        "        print(c)\n",
        "    except ValueError :\n",
        "        print(\"The value of a and b should be int.\")\n",
        "        cal()\n",
        "    except ZeroDivisionError:\n",
        "        print(\"The value of b can not be zero\")\n",
        "        cal()\n",
        "cal()"
      ],
      "execution_count": null,
      "outputs": [
        {
          "output_type": "stream",
          "text": [
            "Enter a = 10\n",
            "Enter b = 0\n",
            "The value of b can not be zero\n"
          ],
          "name": "stdout"
        }
      ]
    },
    {
      "cell_type": "code",
      "metadata": {
        "id": "fDyp8lagk8rn",
        "outputId": "64b3c4a8-dbd3-443e-bb8f-7cb1855e5bb5"
      },
      "source": [
        "def cal():\n",
        "    try:\n",
        "        a = int(input(\"Enter a = \"))\n",
        "        b = int(input(\"Enter b = \"))\n",
        "        c = a/b\n",
        "    except ValueError :\n",
        "        print(\"The value of a and b should be int.\")\n",
        "        cal()\n",
        "    except ZeroDivisionError:\n",
        "        print(\"The value of b can not be zero\")\n",
        "    else:\n",
        "        print(c)\n",
        "        \n",
        "cal()"
      ],
      "execution_count": null,
      "outputs": [
        {
          "output_type": "stream",
          "text": [
            "Enter a = 10\n",
            "Enter b = 3\n",
            "3.3333333333333335\n"
          ],
          "name": "stdout"
        }
      ]
    },
    {
      "cell_type": "code",
      "metadata": {
        "id": "PfEQ1GOok8ro",
        "outputId": "225d9d52-4315-4326-e50d-1d2a4b7bc43d",
        "colab": {
          "base_uri": "https://localhost:8080/"
        }
      },
      "source": [
        "try:\n",
        "    b = open('untitled.txt','r')\n",
        "    b.close()\n",
        "except:\n",
        "    print(\"The file is not there.\")"
      ],
      "execution_count": 1,
      "outputs": [
        {
          "output_type": "stream",
          "text": [
            "The file is not there.\n"
          ],
          "name": "stdout"
        }
      ]
    },
    {
      "cell_type": "code",
      "metadata": {
        "id": "ajppHeRbnLln",
        "outputId": "66257a42-876f-46ad-dc07-9b7f46ee3ae2",
        "colab": {
          "base_uri": "https://localhost:8080/"
        }
      },
      "source": [
        "def cal():\n",
        "    count = 1\n",
        "    try:\n",
        "        a = int(input(\"Enter a = \"))\n",
        "        b = int(input(\"Enter b = \"))\n",
        "        c = a/b\n",
        "    except ValueError :\n",
        "        print(\"The value of a and b should be int.\")\n",
        "        count = count+1\n",
        "        cal()\n",
        "    except ZeroDivisionError:\n",
        "        print(\"The value of b can not be zero\")\n",
        "        count = count+1\n",
        "        cal()\n",
        "    else:\n",
        "        print(c)\n",
        "#finally block is rearly used in small program ...\n",
        "#Finally block is used in big programs or projects...\n",
        "    finally:\n",
        "      print(\"you are inside cal function\")\n",
        "        \n",
        "cal()"
      ],
      "execution_count": 2,
      "outputs": [
        {
          "output_type": "stream",
          "text": [
            "Enter a = 12\n",
            "Enter b = 12\n",
            "1.0\n",
            "you are inside cal function\n"
          ],
          "name": "stdout"
        }
      ]
    },
    {
      "cell_type": "code",
      "metadata": {
        "id": "BoP6lxBnk8rp",
        "outputId": "25ecccab-fc8b-4027-e577-039bbbac1d69"
      },
      "source": [
        "def cal():\n",
        "    count = 1\n",
        "    try:\n",
        "        a = int(input(\"Enter a = \"))\n",
        "        b = int(input(\"Enter b = \"))\n",
        "        c = a/b\n",
        "    except ValueError :\n",
        "        print(\"The value of a and b should be int.\")\n",
        "        count = count+1\n",
        "        cal()\n",
        "    except ZeroDivisionError:\n",
        "        print(\"The value of b can not be zero\")\n",
        "        count = count+1\n",
        "        cal()\n",
        "    else:\n",
        "        print(c)\n",
        "\n",
        "    return count\n",
        "        \n",
        "cal()"
      ],
      "execution_count": null,
      "outputs": [
        {
          "output_type": "stream",
          "text": [
            "Enter a = 10\n",
            "Enter b = 0\n",
            "The value of b can not be zero\n",
            "Enter a = 10\n",
            "Enter b = 2\n",
            "5.0\n"
          ],
          "name": "stdout"
        },
        {
          "output_type": "execute_result",
          "data": {
            "text/plain": [
              "2"
            ]
          },
          "metadata": {
            "tags": []
          },
          "execution_count": 24
        }
      ]
    },
    {
      "cell_type": "code",
      "metadata": {
        "id": "KpS_Q6j9k8rp",
        "outputId": "b611f5be-6886-4f2a-bf8c-5e568eeb81a9"
      },
      "source": [
        "raise ZeroDivisionError"
      ],
      "execution_count": null,
      "outputs": [
        {
          "output_type": "error",
          "ename": "ZeroDivisionError",
          "evalue": "",
          "traceback": [
            "\u001b[1;31m---------------------------------------------------------------------------\u001b[0m",
            "\u001b[1;31mZeroDivisionError\u001b[0m                         Traceback (most recent call last)",
            "\u001b[1;32m<ipython-input-25-c62fc6984c64>\u001b[0m in \u001b[0;36m<module>\u001b[1;34m\u001b[0m\n\u001b[1;32m----> 1\u001b[1;33m \u001b[1;32mraise\u001b[0m \u001b[0mZeroDivisionError\u001b[0m\u001b[1;33m\u001b[0m\u001b[1;33m\u001b[0m\u001b[0m\n\u001b[0m",
            "\u001b[1;31mZeroDivisionError\u001b[0m: "
          ]
        }
      ]
    },
    {
      "cell_type": "code",
      "metadata": {
        "id": "K_Qxyckkk8rq",
        "outputId": "0b568d86-371e-4497-c9c7-44171d7c204b"
      },
      "source": [
        "try:  \n",
        "    a = int(input(\"Enter a?\"))  \n",
        "    b = int(input(\"Enter b?\"))  \n",
        "    if b == 0:  \n",
        "        raise ValueError\n",
        "    else:  \n",
        "        print(\"a/b = \",a/b)  \n",
        "except ValueError:  \n",
        "    print(\"The value of b can't be 0\")\n"
      ],
      "execution_count": null,
      "outputs": [
        {
          "output_type": "stream",
          "text": [
            "Enter a?10\n",
            "Enter b?0\n",
            "The value of b can't be 0\n"
          ],
          "name": "stdout"
        }
      ]
    },
    {
      "cell_type": "code",
      "metadata": {
        "id": "yGHVT4Szk8rq",
        "outputId": "b9aacfe4-4c04-4f82-f26c-11191f2fd4dd"
      },
      "source": [
        "try:\n",
        "    a = 10\n",
        "    assert a>0\n",
        "\n",
        "except AssertionError:\n",
        "    print(\"The value of a shoud be +ve\")\n",
        "else:\n",
        "    print(\"You entered \",a)"
      ],
      "execution_count": null,
      "outputs": [
        {
          "output_type": "stream",
          "text": [
            "You entered  10\n"
          ],
          "name": "stdout"
        }
      ]
    },
    {
      "cell_type": "code",
      "metadata": {
        "id": "UtmxWPQZk8rr"
      },
      "source": [
        ""
      ],
      "execution_count": null,
      "outputs": []
    }
  ]
}